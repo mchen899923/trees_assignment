{
  "cells": [
    {
      "cell_type": "markdown",
      "metadata": {
        "id": "IKi3fBiZLIKx"
      },
      "source": [
        "# Assignment: Trees\n",
        "\n",
        "## Do two questions in total: \"Q1+Q2\" or \"Q1+Q3\"\n",
        "\n",
        "`! git clone https://github.com/ds3001f25/linear_models_assignment.git`"
      ]
    },
    {
      "cell_type": "markdown",
      "metadata": {
        "id": "VwaF7ppCLIKz"
      },
      "source": [
        "**Q1.** Please answer the following questions in your own words.\n",
        "1. Why is the Gini a good loss function for categorical target variables?\n",
        "2. Why do trees tend to overfit, and how can this tendency be constrained?\n",
        "3. True or false, and explain: Trees only really perform well in situations with lots of categorical variables as features/covariates.\n",
        "4. Why don't most versions of classification/regression tree concept allow for more than two branches after a split?\n",
        "5. What are some heuristic ways you can examine a tree and decide whether it is probably over- or under-fitting?"
      ]
    },
    {
      "cell_type": "markdown",
      "source": [
        "1.1\n",
        "\n",
        "Gini is a good loss function, which calculates the difference between predicted and actual values, for categorical target variables because it measures the impurity or disorder of a dataset. It can measure the rate at which an element in a dataset can be incorrectly labeled."
      ],
      "metadata": {
        "id": "YjYeLvIYLPdZ"
      }
    },
    {
      "cell_type": "markdown",
      "source": [
        "1.2\n",
        "\n",
        "Trees ovefit because it's easier for them to capture a lot of noise and unique patterns rather than general patterns in the dataset. This can lead to poor performance of the model. This tendency can be constrained by imposing a limit on the depth of the tree, a lower bound on the impurity that can appear at the terminal node, or a limit on how few cases can appear at the terminal node."
      ],
      "metadata": {
        "id": "5fOiXiV6Nenn"
      }
    },
    {
      "cell_type": "markdown",
      "source": [
        "1.3\n",
        "\n",
        "False. Trees can also perform well in situations with numeric or continuous data. Trees can measure non-linear relationships for numeric data, are less affected by outliers in numeric data, and can find optimal, data-driven splits. This shows all the situations where trees can perform well in other than categorical variables."
      ],
      "metadata": {
        "id": "HkJUcE9KOcGo"
      }
    },
    {
      "cell_type": "markdown",
      "source": [
        "1.4\n",
        "\n",
        "Most versions of classification/regression trees discourage more than two branches after a split because it increases the complexity of the model. This can lead to many errors, which can decrease the performance of the model in analyzing the data. Because it's harder to interpret, there are also diminishing returns for the model."
      ],
      "metadata": {
        "id": "kgYDZEmEPBAr"
      }
    },
    {
      "cell_type": "markdown",
      "source": [
        "1.5\n",
        "\n",
        "An overfit tree is very complex and has low bias and high variance. An underfit tree is very simple and has high bias and low variance. If the performance of the tree wasn't good on a test set and we've determined if the tree is overfit or underfit, we can do many things to solve the problem. If the tree is experiencing overfitting, we can truncate the tree and limit its depth. If the tree is experiencing underfitting, we can program it to avoid making splits that make the subsequent populations too pure."
      ],
      "metadata": {
        "id": "bX830zPaPlV0"
      }
    },
    {
      "cell_type": "markdown",
      "metadata": {
        "id": "WIl-Y8WlLIKz"
      },
      "source": [
        "**Q2.** This is a case study about classification and regression trees.\n",
        "\n",
        "1. Load the `Breast Cancer METABRIC.csv` dataset. How many observations and variables does it contain? Print out the first few rows of data.\n",
        "\n",
        "2.  We'll use a consistent set of feature/explanatory variables. For numeric variables, we'll include `Tumor Size`, `Lymph nodes examined positive`, `Age at Diagnosis`. For categorical variables, we'll include `Tumor Stage`, `Chemotherapy`, and `Cancer Type Detailed`. One-hot-encode the categorical variables and concatenate them with the numeric variables into a feature/covariate matrix, $X$.\n",
        "\n",
        "3. Let's predict `Overall Survival Status` given the features/covariates $X$. There are 528 missing values, unfortunately: Either drop those rows from your data or add them as a category to predict. Constrain the minimum samples per leaf to 10. Print a dendrogram of the tree. Print a confusion matrix of the algorithm's performance. What is the accuracy?\n",
        "\n",
        "4. For your model in part three, compute three statistics:\n",
        "    - The **true positive rate** or **sensitivity**:\n",
        "        $$\n",
        "        TPR = \\dfrac{TP}{TP+FN}\n",
        "        $$\n",
        "    - The **true negative rate** or **specificity**:\n",
        "        $$\n",
        "        TNR = \\dfrac{TN}{TN+FP}\n",
        "        $$\n",
        "    Does your model tend to perform better with respect to one of these metrics?\n",
        "\n",
        "5. Let's predict `Overall Survival (Months)` given the features/covariates $X$. Use the train/test split to pick the optimal `min_samples_leaf` value that gives the highest $R^2$ on the test set (it's about 110). What is the $R^2$? Plot the test values against the predicted values. How do you feel about this model for clinical purposes?"
      ]
    },
    {
      "cell_type": "markdown",
      "source": [
        "Chose not to do this one."
      ],
      "metadata": {
        "id": "dfxagV1yiB8Y"
      }
    },
    {
      "cell_type": "markdown",
      "metadata": {
        "id": "YfoKmjIoLIK0"
      },
      "source": [
        "**Q3.** This is a case study about trees using bond rating data. This is a dataset about bond ratings for different companies, alongside a bunch of business statistics and other data. Companies often have multiple reviews at different dates. We want to predict the bond rating (AAA, AA, A, BBB, BB, B, ..., C, D). Do business fundamentals predict the company's rating?\n",
        "\n",
        "1. Load the `./data/corporate_ratings.csv` dataset. How many observations and variables does it contain? Print out the first few rows of data.\n",
        "\n",
        "2.  Plot a histogram of the `ratings` variable. It turns out that the gradations of AAA/AA/A and BBB/BB/B and so on make it hard to get good results with trees. Collapse all AAA/AA/A ratings into just A, and similarly for B and C.\n",
        "\n",
        "3. Use all of the variables **except** Rating, Date, Name, Symbol, and Rating Agency Name. To include Sector, make a dummy/one-hot-encoded representation and include it in your features/covariates. Collect the relevant variables into a data matrix $X$.\n",
        "\n",
        "4. Do a train/test split of the data and use a decision tree classifier to predict the bond rating. Including a min_samples_leaf constraint can raise the accuracy and speed up computation time. Print a confusion matrix and the accuracy of your model. How well do you predict the different bond ratings?\n",
        "\n",
        "5. If you include the rating agency as a feature/covariate/predictor variable, do the results change? How do you interpret this?"
      ]
    },
    {
      "cell_type": "code",
      "source": [
        "import pandas as pd\n",
        "import numpy as np\n",
        "import matplotlib.pyplot as plt\n",
        "import seaborn as sns"
      ],
      "metadata": {
        "id": "6uNgorE7hgqQ"
      },
      "execution_count": 2,
      "outputs": []
    },
    {
      "cell_type": "markdown",
      "source": [
        "3.1"
      ],
      "metadata": {
        "id": "5gANC3mJhcR9"
      }
    },
    {
      "cell_type": "code",
      "source": [
        "corporate_df = pd.read_csv(\"corporate_ratings.csv\")"
      ],
      "metadata": {
        "id": "S93siUr7hdbN"
      },
      "execution_count": 3,
      "outputs": []
    },
    {
      "cell_type": "markdown",
      "source": [
        "The number of observations is 2029. The number of variables is 31."
      ],
      "metadata": {
        "id": "tN8FzqIzh23u"
      }
    },
    {
      "cell_type": "code",
      "source": [
        "print(f\"Number of observations: {corporate_df.shape[0]}\") #Number of observations #2029\n",
        "print(f\"Number of variables: {corporate_df.shape[1]}\") #Number of variables #31\n",
        "display(corporate_df.head()) #Generate first few rows"
      ],
      "metadata": {
        "colab": {
          "base_uri": "https://localhost:8080/",
          "height": 508
        },
        "id": "KwQ_TPLZhqVF",
        "outputId": "838b2136-19f8-4e40-aa9c-cb27cc3b4e69"
      },
      "execution_count": 4,
      "outputs": [
        {
          "output_type": "stream",
          "name": "stdout",
          "text": [
            "Number of observations: 2029\n",
            "Number of variables: 31\n"
          ]
        },
        {
          "output_type": "display_data",
          "data": {
            "text/plain": [
              "  Rating                   Name Symbol                  Rating Agency Name  \\\n",
              "0      A  Whirlpool Corporation    WHR          Egan-Jones Ratings Company   \n",
              "1    BBB  Whirlpool Corporation    WHR          Egan-Jones Ratings Company   \n",
              "2    BBB  Whirlpool Corporation    WHR                       Fitch Ratings   \n",
              "3    BBB  Whirlpool Corporation    WHR                       Fitch Ratings   \n",
              "4    BBB  Whirlpool Corporation    WHR  Standard & Poor's Ratings Services   \n",
              "\n",
              "         Date             Sector  currentRatio  quickRatio  cashRatio  \\\n",
              "0  11/27/2015  Consumer Durables      0.945894    0.426395   0.099690   \n",
              "1   2/13/2014  Consumer Durables      1.033559    0.498234   0.203120   \n",
              "2    3/6/2015  Consumer Durables      0.963703    0.451505   0.122099   \n",
              "3   6/15/2012  Consumer Durables      1.019851    0.510402   0.176116   \n",
              "4  10/24/2016  Consumer Durables      0.957844    0.495432   0.141608   \n",
              "\n",
              "   daysOfSalesOutstanding  ...  effectiveTaxRate  \\\n",
              "0               44.203245  ...          0.202716   \n",
              "1               38.991156  ...          0.074155   \n",
              "2               50.841385  ...          0.214529   \n",
              "3               41.161738  ...          1.816667   \n",
              "4               47.761126  ...          0.166966   \n",
              "\n",
              "   freeCashFlowOperatingCashFlowRatio  freeCashFlowPerShare  cashPerShare  \\\n",
              "0                            0.437551              6.810673      9.809403   \n",
              "1                            0.541997              8.625473     17.402270   \n",
              "2                            0.513185              9.693487     13.103448   \n",
              "3                           -0.147170             -1.015625     14.440104   \n",
              "4                            0.451372              7.135348     14.257556   \n",
              "\n",
              "   companyEquityMultiplier  ebitPerRevenue  enterpriseValueMultiple  \\\n",
              "0                 4.008012        0.049351                 7.057088   \n",
              "1                 3.156783        0.048857                 6.460618   \n",
              "2                 4.094575        0.044334                10.491970   \n",
              "3                 3.630950       -0.012858                 4.080741   \n",
              "4                 4.012780        0.053770                 8.293505   \n",
              "\n",
              "   operatingCashFlowPerShare  operatingCashFlowSalesRatio  payablesTurnover  \n",
              "0                  15.565438                     0.058638          3.906655  \n",
              "1                  15.914250                     0.067239          4.002846  \n",
              "2                  18.888889                     0.074426          3.483510  \n",
              "3                   6.901042                     0.028394          4.581150  \n",
              "4                  15.808147                     0.058065          3.857790  \n",
              "\n",
              "[5 rows x 31 columns]"
            ],
            "text/html": [
              "\n",
              "  <div id=\"df-6a80088d-2539-4bbb-bac2-b372ce1e3f01\" class=\"colab-df-container\">\n",
              "    <div>\n",
              "<style scoped>\n",
              "    .dataframe tbody tr th:only-of-type {\n",
              "        vertical-align: middle;\n",
              "    }\n",
              "\n",
              "    .dataframe tbody tr th {\n",
              "        vertical-align: top;\n",
              "    }\n",
              "\n",
              "    .dataframe thead th {\n",
              "        text-align: right;\n",
              "    }\n",
              "</style>\n",
              "<table border=\"1\" class=\"dataframe\">\n",
              "  <thead>\n",
              "    <tr style=\"text-align: right;\">\n",
              "      <th></th>\n",
              "      <th>Rating</th>\n",
              "      <th>Name</th>\n",
              "      <th>Symbol</th>\n",
              "      <th>Rating Agency Name</th>\n",
              "      <th>Date</th>\n",
              "      <th>Sector</th>\n",
              "      <th>currentRatio</th>\n",
              "      <th>quickRatio</th>\n",
              "      <th>cashRatio</th>\n",
              "      <th>daysOfSalesOutstanding</th>\n",
              "      <th>...</th>\n",
              "      <th>effectiveTaxRate</th>\n",
              "      <th>freeCashFlowOperatingCashFlowRatio</th>\n",
              "      <th>freeCashFlowPerShare</th>\n",
              "      <th>cashPerShare</th>\n",
              "      <th>companyEquityMultiplier</th>\n",
              "      <th>ebitPerRevenue</th>\n",
              "      <th>enterpriseValueMultiple</th>\n",
              "      <th>operatingCashFlowPerShare</th>\n",
              "      <th>operatingCashFlowSalesRatio</th>\n",
              "      <th>payablesTurnover</th>\n",
              "    </tr>\n",
              "  </thead>\n",
              "  <tbody>\n",
              "    <tr>\n",
              "      <th>0</th>\n",
              "      <td>A</td>\n",
              "      <td>Whirlpool Corporation</td>\n",
              "      <td>WHR</td>\n",
              "      <td>Egan-Jones Ratings Company</td>\n",
              "      <td>11/27/2015</td>\n",
              "      <td>Consumer Durables</td>\n",
              "      <td>0.945894</td>\n",
              "      <td>0.426395</td>\n",
              "      <td>0.099690</td>\n",
              "      <td>44.203245</td>\n",
              "      <td>...</td>\n",
              "      <td>0.202716</td>\n",
              "      <td>0.437551</td>\n",
              "      <td>6.810673</td>\n",
              "      <td>9.809403</td>\n",
              "      <td>4.008012</td>\n",
              "      <td>0.049351</td>\n",
              "      <td>7.057088</td>\n",
              "      <td>15.565438</td>\n",
              "      <td>0.058638</td>\n",
              "      <td>3.906655</td>\n",
              "    </tr>\n",
              "    <tr>\n",
              "      <th>1</th>\n",
              "      <td>BBB</td>\n",
              "      <td>Whirlpool Corporation</td>\n",
              "      <td>WHR</td>\n",
              "      <td>Egan-Jones Ratings Company</td>\n",
              "      <td>2/13/2014</td>\n",
              "      <td>Consumer Durables</td>\n",
              "      <td>1.033559</td>\n",
              "      <td>0.498234</td>\n",
              "      <td>0.203120</td>\n",
              "      <td>38.991156</td>\n",
              "      <td>...</td>\n",
              "      <td>0.074155</td>\n",
              "      <td>0.541997</td>\n",
              "      <td>8.625473</td>\n",
              "      <td>17.402270</td>\n",
              "      <td>3.156783</td>\n",
              "      <td>0.048857</td>\n",
              "      <td>6.460618</td>\n",
              "      <td>15.914250</td>\n",
              "      <td>0.067239</td>\n",
              "      <td>4.002846</td>\n",
              "    </tr>\n",
              "    <tr>\n",
              "      <th>2</th>\n",
              "      <td>BBB</td>\n",
              "      <td>Whirlpool Corporation</td>\n",
              "      <td>WHR</td>\n",
              "      <td>Fitch Ratings</td>\n",
              "      <td>3/6/2015</td>\n",
              "      <td>Consumer Durables</td>\n",
              "      <td>0.963703</td>\n",
              "      <td>0.451505</td>\n",
              "      <td>0.122099</td>\n",
              "      <td>50.841385</td>\n",
              "      <td>...</td>\n",
              "      <td>0.214529</td>\n",
              "      <td>0.513185</td>\n",
              "      <td>9.693487</td>\n",
              "      <td>13.103448</td>\n",
              "      <td>4.094575</td>\n",
              "      <td>0.044334</td>\n",
              "      <td>10.491970</td>\n",
              "      <td>18.888889</td>\n",
              "      <td>0.074426</td>\n",
              "      <td>3.483510</td>\n",
              "    </tr>\n",
              "    <tr>\n",
              "      <th>3</th>\n",
              "      <td>BBB</td>\n",
              "      <td>Whirlpool Corporation</td>\n",
              "      <td>WHR</td>\n",
              "      <td>Fitch Ratings</td>\n",
              "      <td>6/15/2012</td>\n",
              "      <td>Consumer Durables</td>\n",
              "      <td>1.019851</td>\n",
              "      <td>0.510402</td>\n",
              "      <td>0.176116</td>\n",
              "      <td>41.161738</td>\n",
              "      <td>...</td>\n",
              "      <td>1.816667</td>\n",
              "      <td>-0.147170</td>\n",
              "      <td>-1.015625</td>\n",
              "      <td>14.440104</td>\n",
              "      <td>3.630950</td>\n",
              "      <td>-0.012858</td>\n",
              "      <td>4.080741</td>\n",
              "      <td>6.901042</td>\n",
              "      <td>0.028394</td>\n",
              "      <td>4.581150</td>\n",
              "    </tr>\n",
              "    <tr>\n",
              "      <th>4</th>\n",
              "      <td>BBB</td>\n",
              "      <td>Whirlpool Corporation</td>\n",
              "      <td>WHR</td>\n",
              "      <td>Standard &amp; Poor's Ratings Services</td>\n",
              "      <td>10/24/2016</td>\n",
              "      <td>Consumer Durables</td>\n",
              "      <td>0.957844</td>\n",
              "      <td>0.495432</td>\n",
              "      <td>0.141608</td>\n",
              "      <td>47.761126</td>\n",
              "      <td>...</td>\n",
              "      <td>0.166966</td>\n",
              "      <td>0.451372</td>\n",
              "      <td>7.135348</td>\n",
              "      <td>14.257556</td>\n",
              "      <td>4.012780</td>\n",
              "      <td>0.053770</td>\n",
              "      <td>8.293505</td>\n",
              "      <td>15.808147</td>\n",
              "      <td>0.058065</td>\n",
              "      <td>3.857790</td>\n",
              "    </tr>\n",
              "  </tbody>\n",
              "</table>\n",
              "<p>5 rows × 31 columns</p>\n",
              "</div>\n",
              "    <div class=\"colab-df-buttons\">\n",
              "\n",
              "  <div class=\"colab-df-container\">\n",
              "    <button class=\"colab-df-convert\" onclick=\"convertToInteractive('df-6a80088d-2539-4bbb-bac2-b372ce1e3f01')\"\n",
              "            title=\"Convert this dataframe to an interactive table.\"\n",
              "            style=\"display:none;\">\n",
              "\n",
              "  <svg xmlns=\"http://www.w3.org/2000/svg\" height=\"24px\" viewBox=\"0 -960 960 960\">\n",
              "    <path d=\"M120-120v-720h720v720H120Zm60-500h600v-160H180v160Zm220 220h160v-160H400v160Zm0 220h160v-160H400v160ZM180-400h160v-160H180v160Zm440 0h160v-160H620v160ZM180-180h160v-160H180v160Zm440 0h160v-160H620v160Z\"/>\n",
              "  </svg>\n",
              "    </button>\n",
              "\n",
              "  <style>\n",
              "    .colab-df-container {\n",
              "      display:flex;\n",
              "      gap: 12px;\n",
              "    }\n",
              "\n",
              "    .colab-df-convert {\n",
              "      background-color: #E8F0FE;\n",
              "      border: none;\n",
              "      border-radius: 50%;\n",
              "      cursor: pointer;\n",
              "      display: none;\n",
              "      fill: #1967D2;\n",
              "      height: 32px;\n",
              "      padding: 0 0 0 0;\n",
              "      width: 32px;\n",
              "    }\n",
              "\n",
              "    .colab-df-convert:hover {\n",
              "      background-color: #E2EBFA;\n",
              "      box-shadow: 0px 1px 2px rgba(60, 64, 67, 0.3), 0px 1px 3px 1px rgba(60, 64, 67, 0.15);\n",
              "      fill: #174EA6;\n",
              "    }\n",
              "\n",
              "    .colab-df-buttons div {\n",
              "      margin-bottom: 4px;\n",
              "    }\n",
              "\n",
              "    [theme=dark] .colab-df-convert {\n",
              "      background-color: #3B4455;\n",
              "      fill: #D2E3FC;\n",
              "    }\n",
              "\n",
              "    [theme=dark] .colab-df-convert:hover {\n",
              "      background-color: #434B5C;\n",
              "      box-shadow: 0px 1px 3px 1px rgba(0, 0, 0, 0.15);\n",
              "      filter: drop-shadow(0px 1px 2px rgba(0, 0, 0, 0.3));\n",
              "      fill: #FFFFFF;\n",
              "    }\n",
              "  </style>\n",
              "\n",
              "    <script>\n",
              "      const buttonEl =\n",
              "        document.querySelector('#df-6a80088d-2539-4bbb-bac2-b372ce1e3f01 button.colab-df-convert');\n",
              "      buttonEl.style.display =\n",
              "        google.colab.kernel.accessAllowed ? 'block' : 'none';\n",
              "\n",
              "      async function convertToInteractive(key) {\n",
              "        const element = document.querySelector('#df-6a80088d-2539-4bbb-bac2-b372ce1e3f01');\n",
              "        const dataTable =\n",
              "          await google.colab.kernel.invokeFunction('convertToInteractive',\n",
              "                                                    [key], {});\n",
              "        if (!dataTable) return;\n",
              "\n",
              "        const docLinkHtml = 'Like what you see? Visit the ' +\n",
              "          '<a target=\"_blank\" href=https://colab.research.google.com/notebooks/data_table.ipynb>data table notebook</a>'\n",
              "          + ' to learn more about interactive tables.';\n",
              "        element.innerHTML = '';\n",
              "        dataTable['output_type'] = 'display_data';\n",
              "        await google.colab.output.renderOutput(dataTable, element);\n",
              "        const docLink = document.createElement('div');\n",
              "        docLink.innerHTML = docLinkHtml;\n",
              "        element.appendChild(docLink);\n",
              "      }\n",
              "    </script>\n",
              "  </div>\n",
              "\n",
              "\n",
              "    <div id=\"df-8b8e8cd1-c319-47eb-aaee-efea05a9564f\">\n",
              "      <button class=\"colab-df-quickchart\" onclick=\"quickchart('df-8b8e8cd1-c319-47eb-aaee-efea05a9564f')\"\n",
              "                title=\"Suggest charts\"\n",
              "                style=\"display:none;\">\n",
              "\n",
              "<svg xmlns=\"http://www.w3.org/2000/svg\" height=\"24px\"viewBox=\"0 0 24 24\"\n",
              "     width=\"24px\">\n",
              "    <g>\n",
              "        <path d=\"M19 3H5c-1.1 0-2 .9-2 2v14c0 1.1.9 2 2 2h14c1.1 0 2-.9 2-2V5c0-1.1-.9-2-2-2zM9 17H7v-7h2v7zm4 0h-2V7h2v10zm4 0h-2v-4h2v4z\"/>\n",
              "    </g>\n",
              "</svg>\n",
              "      </button>\n",
              "\n",
              "<style>\n",
              "  .colab-df-quickchart {\n",
              "      --bg-color: #E8F0FE;\n",
              "      --fill-color: #1967D2;\n",
              "      --hover-bg-color: #E2EBFA;\n",
              "      --hover-fill-color: #174EA6;\n",
              "      --disabled-fill-color: #AAA;\n",
              "      --disabled-bg-color: #DDD;\n",
              "  }\n",
              "\n",
              "  [theme=dark] .colab-df-quickchart {\n",
              "      --bg-color: #3B4455;\n",
              "      --fill-color: #D2E3FC;\n",
              "      --hover-bg-color: #434B5C;\n",
              "      --hover-fill-color: #FFFFFF;\n",
              "      --disabled-bg-color: #3B4455;\n",
              "      --disabled-fill-color: #666;\n",
              "  }\n",
              "\n",
              "  .colab-df-quickchart {\n",
              "    background-color: var(--bg-color);\n",
              "    border: none;\n",
              "    border-radius: 50%;\n",
              "    cursor: pointer;\n",
              "    display: none;\n",
              "    fill: var(--fill-color);\n",
              "    height: 32px;\n",
              "    padding: 0;\n",
              "    width: 32px;\n",
              "  }\n",
              "\n",
              "  .colab-df-quickchart:hover {\n",
              "    background-color: var(--hover-bg-color);\n",
              "    box-shadow: 0 1px 2px rgba(60, 64, 67, 0.3), 0 1px 3px 1px rgba(60, 64, 67, 0.15);\n",
              "    fill: var(--button-hover-fill-color);\n",
              "  }\n",
              "\n",
              "  .colab-df-quickchart-complete:disabled,\n",
              "  .colab-df-quickchart-complete:disabled:hover {\n",
              "    background-color: var(--disabled-bg-color);\n",
              "    fill: var(--disabled-fill-color);\n",
              "    box-shadow: none;\n",
              "  }\n",
              "\n",
              "  .colab-df-spinner {\n",
              "    border: 2px solid var(--fill-color);\n",
              "    border-color: transparent;\n",
              "    border-bottom-color: var(--fill-color);\n",
              "    animation:\n",
              "      spin 1s steps(1) infinite;\n",
              "  }\n",
              "\n",
              "  @keyframes spin {\n",
              "    0% {\n",
              "      border-color: transparent;\n",
              "      border-bottom-color: var(--fill-color);\n",
              "      border-left-color: var(--fill-color);\n",
              "    }\n",
              "    20% {\n",
              "      border-color: transparent;\n",
              "      border-left-color: var(--fill-color);\n",
              "      border-top-color: var(--fill-color);\n",
              "    }\n",
              "    30% {\n",
              "      border-color: transparent;\n",
              "      border-left-color: var(--fill-color);\n",
              "      border-top-color: var(--fill-color);\n",
              "      border-right-color: var(--fill-color);\n",
              "    }\n",
              "    40% {\n",
              "      border-color: transparent;\n",
              "      border-right-color: var(--fill-color);\n",
              "      border-top-color: var(--fill-color);\n",
              "    }\n",
              "    60% {\n",
              "      border-color: transparent;\n",
              "      border-right-color: var(--fill-color);\n",
              "    }\n",
              "    80% {\n",
              "      border-color: transparent;\n",
              "      border-right-color: var(--fill-color);\n",
              "      border-bottom-color: var(--fill-color);\n",
              "    }\n",
              "    90% {\n",
              "      border-color: transparent;\n",
              "      border-bottom-color: var(--fill-color);\n",
              "    }\n",
              "  }\n",
              "</style>\n",
              "\n",
              "      <script>\n",
              "        async function quickchart(key) {\n",
              "          const quickchartButtonEl =\n",
              "            document.querySelector('#' + key + ' button');\n",
              "          quickchartButtonEl.disabled = true;  // To prevent multiple clicks.\n",
              "          quickchartButtonEl.classList.add('colab-df-spinner');\n",
              "          try {\n",
              "            const charts = await google.colab.kernel.invokeFunction(\n",
              "                'suggestCharts', [key], {});\n",
              "          } catch (error) {\n",
              "            console.error('Error during call to suggestCharts:', error);\n",
              "          }\n",
              "          quickchartButtonEl.classList.remove('colab-df-spinner');\n",
              "          quickchartButtonEl.classList.add('colab-df-quickchart-complete');\n",
              "        }\n",
              "        (() => {\n",
              "          let quickchartButtonEl =\n",
              "            document.querySelector('#df-8b8e8cd1-c319-47eb-aaee-efea05a9564f button');\n",
              "          quickchartButtonEl.style.display =\n",
              "            google.colab.kernel.accessAllowed ? 'block' : 'none';\n",
              "        })();\n",
              "      </script>\n",
              "    </div>\n",
              "\n",
              "    </div>\n",
              "  </div>\n"
            ],
            "application/vnd.google.colaboratory.intrinsic+json": {
              "type": "dataframe"
            }
          },
          "metadata": {}
        }
      ]
    },
    {
      "cell_type": "markdown",
      "source": [
        "3.2"
      ],
      "metadata": {
        "id": "r_8Z9OJ2h7Pq"
      }
    },
    {
      "cell_type": "code",
      "source": [
        "corporate_df[\"Rating_collapsed\"] = corporate_df[\"Rating\"].replace({ #Collapse all variations of A in A, B into B, C into C, and D into D\n",
        "    \"AAA\": \"A\", \"AA\": \"A\", \"A\": \"A\",\n",
        "    \"BBB\": \"B\", \"BB\": \"B\", \"B\": \"B\",\n",
        "    \"CCC\": \"C\", \"CC\": \"C\", \"C\": \"C\",\n",
        "    \"D\": \"D\"\n",
        "})\n",
        "\n",
        "Rating_num = {\"A\": 3, \"B\": 2, \"C\": 1, \"D\": 0} #Convert to numeric\n",
        "corporate_df[\"Rating_num\"] = corporate_df[\"Rating_collapsed\"].map(Rating_num)\n",
        "\n",
        "corporate_df[\"Rating_num\"].plot( #Generate histogram\n",
        "    kind = \"hist\",\n",
        "    bins = [-0.5, 0.5, 1.5, 2.5, 3.5],\n",
        "    color = \"teal\",\n",
        "    edgecolor = \"black\",\n",
        "    figsize = (6, 4)\n",
        ")\n",
        "\n",
        "plt.title(\"Histogram of Collapsed Numeric Ratings\") #Title\n",
        "plt.xlabel(\"Collapsed Rating\")\n",
        "plt.ylabel(\"Frequency\")\n",
        "plt.xticks([0, 1, 2, 3], [\"D\", \"C\", \"B\", \"A\"])\n",
        "plt.show()\n",
        "\n"
      ],
      "metadata": {
        "colab": {
          "base_uri": "https://localhost:8080/",
          "height": 410
        },
        "id": "OYr5weQwyOAF",
        "outputId": "bdd87f9c-acdc-4077-d39a-5a8b4877316a"
      },
      "execution_count": 5,
      "outputs": [
        {
          "output_type": "display_data",
          "data": {
            "text/plain": [
              "<Figure size 600x400 with 1 Axes>"
            ],
            "image/png": "[encoded data removed]"
          },
          "metadata": {}
        }
      ]
    },
    {
      "cell_type": "markdown",
      "source": [
        "3.3"
      ],
      "metadata": {
        "id": "Gkdf23Vp0tYU"
      }
    },
    {
      "cell_type": "code",
      "source": [
        "X = corporate_df.drop(columns = [\"Rating\", \"Date\", \"Name\", \"Symbol\", \"Rating Agency Name\"]) #Drop columns\n",
        "\n",
        "X = pd.get_dummies(X, columns = [\"Sector\"], drop_first = True) #One-hot encode\n",
        "\n",
        "print(X.shape) #Confirm the matrix\n",
        "print(X.head())"
      ],
      "metadata": {
        "colab": {
          "base_uri": "https://localhost:8080/"
        },
        "id": "ZVSJKsqV0ttx",
        "outputId": "a6ce7657-6af4-4944-e707-57cbddc30820"
      },
      "execution_count": 6,
      "outputs": [
        {
          "output_type": "stream",
          "name": "stdout",
          "text": [
            "(2029, 38)\n",
            "   currentRatio  quickRatio  cashRatio  daysOfSalesOutstanding  \\\n",
            "0      0.945894    0.426395   0.099690               44.203245   \n",
            "1      1.033559    0.498234   0.203120               38.991156   \n",
            "2      0.963703    0.451505   0.122099               50.841385   \n",
            "3      1.019851    0.510402   0.176116               41.161738   \n",
            "4      0.957844    0.495432   0.141608               47.761126   \n",
            "\n",
            "   netProfitMargin  pretaxProfitMargin  grossProfitMargin  \\\n",
            "0         0.037480            0.049351           0.176631   \n",
            "1         0.044062            0.048857           0.175715   \n",
            "2         0.032709            0.044334           0.170843   \n",
            "3         0.020894           -0.012858           0.138059   \n",
            "4         0.042861            0.053770           0.177720   \n",
            "\n",
            "   operatingProfitMargin  returnOnAssets  returnOnCapitalEmployed  ...  \\\n",
            "0               0.061510        0.041189                 0.091514  ...   \n",
            "1               0.066546        0.053204                 0.104800  ...   \n",
            "2               0.059783        0.032497                 0.075955  ...   \n",
            "3               0.042430        0.025690                -0.027015  ...   \n",
            "4               0.065354        0.046363                 0.096945  ...   \n",
            "\n",
            "   Sector_Consumer Durables  Sector_Consumer Non-Durables  \\\n",
            "0                      True                         False   \n",
            "1                      True                         False   \n",
            "2                      True                         False   \n",
            "3                      True                         False   \n",
            "4                      True                         False   \n",
            "\n",
            "   Sector_Consumer Services  Sector_Energy  Sector_Finance  \\\n",
            "0                     False          False           False   \n",
            "1                     False          False           False   \n",
            "2                     False          False           False   \n",
            "3                     False          False           False   \n",
            "4                     False          False           False   \n",
            "\n",
            "   Sector_Health Care  Sector_Miscellaneous  Sector_Public Utilities  \\\n",
            "0               False                 False                    False   \n",
            "1               False                 False                    False   \n",
            "2               False                 False                    False   \n",
            "3               False                 False                    False   \n",
            "4               False                 False                    False   \n",
            "\n",
            "   Sector_Technology  Sector_Transportation  \n",
            "0              False                  False  \n",
            "1              False                  False  \n",
            "2              False                  False  \n",
            "3              False                  False  \n",
            "4              False                  False  \n",
            "\n",
            "[5 rows x 38 columns]\n"
          ]
        }
      ]
    },
    {
      "cell_type": "code",
      "source": [
        "from sklearn.model_selection import train_test_split\n",
        "from sklearn.tree import DecisionTreeClassifier\n",
        "from sklearn.metrics import confusion_matrix, accuracy_score, ConfusionMatrixDisplay\n",
        "import matplotlib.pyplot as plt"
      ],
      "metadata": {
        "id": "t0MwruqdriV-"
      },
      "execution_count": 7,
      "outputs": []
    },
    {
      "cell_type": "markdown",
      "source": [
        "3.4"
      ],
      "metadata": {
        "id": "S-lDviW4q2lZ"
      }
    },
    {
      "cell_type": "code",
      "source": [
        "y = corporate_df[\"Rating_collapsed\"]  #Define y\n",
        "\n",
        "# Find classes with only one member\n",
        "class_counts = y.value_counts()\n",
        "classes_to_remove = class_counts[class_counts < 2].index\n",
        "\n",
        "# Remove rows corresponding to classes with less than 2 members\n",
        "corporate_df_cleaned = corporate_df[~corporate_df[\"Rating_collapsed\"].isin(classes_to_remove)].copy()\n",
        "\n",
        "# Re-define X and y from the cleaned dataframe\n",
        "y = corporate_df_cleaned[\"Rating_collapsed\"]\n",
        "X = corporate_df_cleaned.drop(columns = [\"Rating\", \"Date\", \"Name\", \"Symbol\", \"Rating Agency Name\", \"Rating_collapsed\", \"Rating_num\"])\n",
        "X = pd.get_dummies(X, columns = [\"Sector\"], drop_first = True) #One-hot encode\n",
        "\n",
        "\n",
        "X_train, X_test, y_train, y_test = train_test_split( #Split into training vs testing set\n",
        "    X, y, test_size = 0.3, random_state = 42, stratify = y\n",
        ")\n",
        "\n",
        "clf = DecisionTreeClassifier(min_samples_leaf = 10, random_state = 42) #Created Decision Tree\n",
        "clf.fit(X_train, y_train)\n",
        "\n",
        "y_pred = clf.predict(X_test) #Make predictions on test set\n",
        "\n",
        "acc = accuracy_score(y_test, y_pred) #Evaluate model performance\n",
        "acc #0.742"
      ],
      "metadata": {
        "colab": {
          "base_uri": "https://localhost:8080/"
        },
        "id": "Lwi8hzt-q3Ae",
        "outputId": "e5fa7184-3132-4ac1-93da-942c3bcd4add"
      },
      "execution_count": 18,
      "outputs": [
        {
          "output_type": "execute_result",
          "data": {
            "text/plain": [
              "0.7422003284072249"
            ]
          },
          "metadata": {},
          "execution_count": 18
        }
      ]
    },
    {
      "cell_type": "code",
      "source": [
        "cm = confusion_matrix(y_test, y_pred, labels = clf.classes_)\n",
        "disp = ConfusionMatrixDisplay(confusion_matrix = cm, display_labels = clf.classes_)\n",
        "disp.plot(cmap = plt.cm.Blues, values_format = \"d\")\n",
        "plt.title(\"Confusion Matrix: No Rating Agency\")\n",
        "plt.show()"
      ],
      "metadata": {
        "colab": {
          "base_uri": "https://localhost:8080/",
          "height": 472
        },
        "id": "G8E72bprsMq9",
        "outputId": "e227007f-5803-438b-9f79-b42035addf38"
      },
      "execution_count": 16,
      "outputs": [
        {
          "output_type": "display_data",
          "data": {
            "text/plain": [
              "<Figure size 640x480 with 2 Axes>"
            ],
            "image/png": "[encoded data removed]"
          },
          "metadata": {}
        }
      ]
    },
    {
      "cell_type": "code",
      "source": [
        "X_2 = corporate_df_cleaned.drop(columns = [\"Rating\", \"Date\", \"Name\", \"Symbol\", \"Rating_collapsed\", \"Rating_num\"]) #Drop columns for X_2\n",
        "\n",
        "cat_cols = [col for col in [\"Sector\", \"Rating Agency Name\"] if col in X_2.columns] #One-hot encode Sector and Rating Agency Name\n",
        "X_2 = pd.get_dummies(X_2, columns = cat_cols, drop_first = True)\n",
        "\n",
        "X_2 = X_2.fillna(0) #Fill potential NaN values (though get_dummies shouldn't introduce them here)\n",
        "\n",
        "y_2 = corporate_df_cleaned[\"Rating_collapsed\"] #Define y_2\n",
        "\n",
        "X_2_train, X_2_test, y_2_train, y_2_test = train_test_split( #Split into training vs testing set\n",
        "    X_2, y_2, test_size = 0.3, random_state = 42, stratify = y_2\n",
        ")\n",
        "\n",
        "clf2 = DecisionTreeClassifier(min_samples_leaf = 10, random_state = 42) #Created Decision Tree\n",
        "clf2.fit(X_2_train, y_2_train) #Fit the model with training data and training labels\n",
        "\n",
        "y2_pred = clf2.predict(X_2_test) #Make predictions on test set\n",
        "\n",
        "acc2 = accuracy_score(y_2_test, y2_pred) #Evaluate model performance\n",
        "print(f\"\\nAccuracy (with Rating Agency): {acc2:.3f}\")\n",
        "\n",
        "acc2 #0.749"
      ],
      "metadata": {
        "colab": {
          "base_uri": "https://localhost:8080/"
        },
        "id": "K5BrK8ASu572",
        "outputId": "f593ddfe-1b4a-4400-c638-95903884089b"
      },
      "execution_count": 22,
      "outputs": [
        {
          "output_type": "stream",
          "name": "stdout",
          "text": [
            "\n",
            "Accuracy (with Rating Agency): 0.749\n"
          ]
        },
        {
          "output_type": "execute_result",
          "data": {
            "text/plain": [
              "0.7487684729064039"
            ]
          },
          "metadata": {},
          "execution_count": 22
        }
      ]
    },
    {
      "cell_type": "code",
      "source": [
        "cm2 = confusion_matrix(y_2_test, y2_pred, labels = clf2.classes_) #Generate confusion matrix\n",
        "disp2 = ConfusionMatrixDisplay(confusion_matrix = cm2, display_labels = clf2.classes_)\n",
        "disp2.plot(cmap = plt.cm.Blues, values_format = \"d\")\n",
        "plt.title(\"Confusion Matrix: Rating Agency\")\n",
        "plt.show()"
      ],
      "metadata": {
        "id": "OOp3i6sCy9DS",
        "outputId": "ca15c152-7677-41b0-99ba-451731dabee2",
        "colab": {
          "base_uri": "https://localhost:8080/",
          "height": 472
        }
      },
      "execution_count": 25,
      "outputs": [
        {
          "output_type": "display_data",
          "data": {
            "text/plain": [
              "<Figure size 640x480 with 2 Axes>"
            ],
            "image/png": "[encoded data removed]"
          },
          "metadata": {}
        }
      ]
    },
    {
      "cell_type": "markdown",
      "source": [
        "It predicts B ratings pretty well, but it still separates A and C, as some patterns can overlap. Overall, including Rating Agency helps but doesn't strongly separate the rating categories.\n"
      ],
      "metadata": {
        "id": "H4rbKoA1zHeC"
      }
    },
    {
      "cell_type": "markdown",
      "source": [
        "3.5"
      ],
      "metadata": {
        "id": "DGOTlgbazBMV"
      }
    },
    {
      "cell_type": "code",
      "source": [
        "print(\"\\n Interpretation\")\n",
        "\n",
        "if acc2 > acc:\n",
        "  print(\"Including the rating agency slightly improved accuracy\")\n",
        "else:\n",
        "  print(\"Including the rating agency did not improve accuracy\")"
      ],
      "metadata": {
        "id": "0A5wmleK0fcr",
        "outputId": "902af269-1545-4559-9e8a-1c9c5e8d90bb",
        "colab": {
          "base_uri": "https://localhost:8080/"
        }
      },
      "execution_count": 26,
      "outputs": [
        {
          "output_type": "stream",
          "name": "stdout",
          "text": [
            "\n",
            " Interpretation\n",
            "Including the rating agency slightly improved accuracy\n"
          ]
        }
      ]
    },
    {
      "cell_type": "markdown",
      "source": [
        "When the rating agency was included, the accuracy increased slightly and the confusion matrix showed fewer misclassifications between A and B. This suggests that the rating agency provides some additional predictive information. However, the small improvement indicates that most rating variation is already captured by the other financial and sector features."
      ],
      "metadata": {
        "id": "OmpRH_500qJQ"
      }
    }
  ],
  "metadata": {
    "kernelspec": {
      "display_name": "Python 3 (ipykernel)",
      "language": "python",
      "name": "python3"
    },
    "language_info": {
      "codemirror_mode": {
        "name": "ipython",
        "version": 3
      },
      "file_extension": ".py",
      "mimetype": "text/x-python",
      "name": "python",
      "nbconvert_exporter": "python",
      "pygments_lexer": "ipython3",
      "version": "3.10.18"
    },
    "colab": {
      "provenance": []
    }
  },
  "nbformat": 4,
  "nbformat_minor": 0
}